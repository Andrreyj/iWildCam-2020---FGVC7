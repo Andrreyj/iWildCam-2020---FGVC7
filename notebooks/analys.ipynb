{
 "cells": [
  {
   "cell_type": "code",
   "execution_count": 2,
   "metadata": {},
   "outputs": [],
   "source": [
    "import json\n",
    "\n",
    "import pandas as pd\n",
    "\n",
    "from sklearn.model_selection import train_test_split"
   ]
  },
  {
   "cell_type": "code",
   "execution_count": null,
   "metadata": {},
   "outputs": [],
   "source": []
  },
  {
   "cell_type": "code",
   "execution_count": 4,
   "metadata": {},
   "outputs": [],
   "source": [
    "path_to_train_json='/data/KAGGLE/iwildcam-2020-fgvc7/iwildcam2020_train_annotations.json'\n",
    "path_to_test_json='/data/KAGGLE/iwildcam-2020-fgvc7/iwildcam2020_test_information.json'\n",
    "path_to_megadetector_json='/data/KAGGLE/iwildcam-2020-fgvc7/iwildcam2020_megadetector_results.json'\n",
    "path_to_data_dir='/data/KAGGLE/iwildcam-2020-fgvc7'"
   ]
  },
  {
   "cell_type": "code",
   "execution_count": 5,
   "metadata": {},
   "outputs": [],
   "source": [
    "train_js = json.load(open(path_to_train_json))"
   ]
  },
  {
   "cell_type": "code",
   "execution_count": 11,
   "metadata": {},
   "outputs": [
    {
     "data": {
      "text/plain": [
       "(dict_keys(['annotations', 'images', 'categories', 'info']),\n",
       " 217959,\n",
       " 217959,\n",
       " 267,\n",
       " 4)"
      ]
     },
     "execution_count": 11,
     "metadata": {},
     "output_type": "execute_result"
    }
   ],
   "source": [
    "train_js.keys(), len(train_js['annotations']), len(train_js['images']), len(train_js['categories']),  len(train_js['info']), "
   ]
  },
  {
   "cell_type": "code",
   "execution_count": 13,
   "metadata": {},
   "outputs": [
    {
     "data": {
      "text/html": [
       "<div>\n",
       "<style scoped>\n",
       "    .dataframe tbody tr th:only-of-type {\n",
       "        vertical-align: middle;\n",
       "    }\n",
       "\n",
       "    .dataframe tbody tr th {\n",
       "        vertical-align: top;\n",
       "    }\n",
       "\n",
       "    .dataframe thead th {\n",
       "        text-align: right;\n",
       "    }\n",
       "</style>\n",
       "<table border=\"1\" class=\"dataframe\">\n",
       "  <thead>\n",
       "    <tr style=\"text-align: right;\">\n",
       "      <th></th>\n",
       "      <th>image</th>\n",
       "      <th>annotation</th>\n",
       "    </tr>\n",
       "  </thead>\n",
       "  <tbody>\n",
       "    <tr>\n",
       "      <th>0</th>\n",
       "      <td>{'seq_num_frames': 1, 'location': 267, 'dateti...</td>\n",
       "      <td>{'count': 1, 'image_id': '96b00332-21bc-11ea-a...</td>\n",
       "    </tr>\n",
       "    <tr>\n",
       "      <th>1</th>\n",
       "      <td>{'seq_num_frames': 1, 'location': 264, 'dateti...</td>\n",
       "      <td>{'count': 1, 'image_id': '879d74d8-21bc-11ea-a...</td>\n",
       "    </tr>\n",
       "    <tr>\n",
       "      <th>2</th>\n",
       "      <td>{'seq_num_frames': 1, 'location': 45, 'datetim...</td>\n",
       "      <td>{'count': 1, 'image_id': '9017f7aa-21bc-11ea-a...</td>\n",
       "    </tr>\n",
       "    <tr>\n",
       "      <th>3</th>\n",
       "      <td>{'seq_num_frames': 1, 'location': 45, 'datetim...</td>\n",
       "      <td>{'count': 1, 'image_id': '90d93c58-21bc-11ea-a...</td>\n",
       "    </tr>\n",
       "    <tr>\n",
       "      <th>4</th>\n",
       "      <td>{'seq_num_frames': 1, 'location': 45, 'datetim...</td>\n",
       "      <td>{'count': 1, 'image_id': '887cd0ec-21bc-11ea-a...</td>\n",
       "    </tr>\n",
       "    <tr>\n",
       "      <th>...</th>\n",
       "      <td>...</td>\n",
       "      <td>...</td>\n",
       "    </tr>\n",
       "    <tr>\n",
       "      <th>217954</th>\n",
       "      <td>{'seq_num_frames': -1, 'location': 218, 'datet...</td>\n",
       "      <td>{'count': 1, 'image_id': '8b7899a2-21bc-11ea-a...</td>\n",
       "    </tr>\n",
       "    <tr>\n",
       "      <th>217955</th>\n",
       "      <td>{'seq_num_frames': -1, 'location': 218, 'datet...</td>\n",
       "      <td>{'count': 1, 'image_id': '958f609c-21bc-11ea-a...</td>\n",
       "    </tr>\n",
       "    <tr>\n",
       "      <th>217956</th>\n",
       "      <td>{'seq_num_frames': -1, 'location': 218, 'datet...</td>\n",
       "      <td>{'count': 1, 'image_id': '93bd2ede-21bc-11ea-a...</td>\n",
       "    </tr>\n",
       "    <tr>\n",
       "      <th>217957</th>\n",
       "      <td>{'seq_num_frames': -1, 'location': 218, 'datet...</td>\n",
       "      <td>{'count': 1, 'image_id': '8971956e-21bc-11ea-a...</td>\n",
       "    </tr>\n",
       "    <tr>\n",
       "      <th>217958</th>\n",
       "      <td>{'seq_num_frames': -1, 'location': 218, 'datet...</td>\n",
       "      <td>{'count': 1, 'image_id': '94529be0-21bc-11ea-a...</td>\n",
       "    </tr>\n",
       "  </tbody>\n",
       "</table>\n",
       "<p>217959 rows × 2 columns</p>\n",
       "</div>"
      ],
      "text/plain": [
       "                                                    image  \\\n",
       "0       {'seq_num_frames': 1, 'location': 267, 'dateti...   \n",
       "1       {'seq_num_frames': 1, 'location': 264, 'dateti...   \n",
       "2       {'seq_num_frames': 1, 'location': 45, 'datetim...   \n",
       "3       {'seq_num_frames': 1, 'location': 45, 'datetim...   \n",
       "4       {'seq_num_frames': 1, 'location': 45, 'datetim...   \n",
       "...                                                   ...   \n",
       "217954  {'seq_num_frames': -1, 'location': 218, 'datet...   \n",
       "217955  {'seq_num_frames': -1, 'location': 218, 'datet...   \n",
       "217956  {'seq_num_frames': -1, 'location': 218, 'datet...   \n",
       "217957  {'seq_num_frames': -1, 'location': 218, 'datet...   \n",
       "217958  {'seq_num_frames': -1, 'location': 218, 'datet...   \n",
       "\n",
       "                                               annotation  \n",
       "0       {'count': 1, 'image_id': '96b00332-21bc-11ea-a...  \n",
       "1       {'count': 1, 'image_id': '879d74d8-21bc-11ea-a...  \n",
       "2       {'count': 1, 'image_id': '9017f7aa-21bc-11ea-a...  \n",
       "3       {'count': 1, 'image_id': '90d93c58-21bc-11ea-a...  \n",
       "4       {'count': 1, 'image_id': '887cd0ec-21bc-11ea-a...  \n",
       "...                                                   ...  \n",
       "217954  {'count': 1, 'image_id': '8b7899a2-21bc-11ea-a...  \n",
       "217955  {'count': 1, 'image_id': '958f609c-21bc-11ea-a...  \n",
       "217956  {'count': 1, 'image_id': '93bd2ede-21bc-11ea-a...  \n",
       "217957  {'count': 1, 'image_id': '8971956e-21bc-11ea-a...  \n",
       "217958  {'count': 1, 'image_id': '94529be0-21bc-11ea-a...  \n",
       "\n",
       "[217959 rows x 2 columns]"
      ]
     },
     "execution_count": 13,
     "metadata": {},
     "output_type": "execute_result"
    }
   ],
   "source": [
    "pd.DataFrame({'image': train_js['images'], 'annotation': train_js['annotations']}) "
   ]
  },
  {
   "cell_type": "code",
   "execution_count": 25,
   "metadata": {},
   "outputs": [],
   "source": [
    " \n",
    "for i in range(1000):    \n",
    "    assert train_js['images'][i]['id'] == train_js['annotations'][i]['image_id']"
   ]
  },
  {
   "cell_type": "code",
   "execution_count": 24,
   "metadata": {},
   "outputs": [
    {
     "data": {
      "text/plain": [
       "({'seq_num_frames': 1,\n",
       "  'location': 267,\n",
       "  'datetime': '2013-08-08 11:45:00.000',\n",
       "  'id': '96b00332-21bc-11ea-a13a-137349068a90',\n",
       "  'frame_num': 1,\n",
       "  'seq_id': '96b004ea-21bc-11ea-a13a-137349068a90',\n",
       "  'width': 1795,\n",
       "  'height': 1222,\n",
       "  'file_name': '96b00332-21bc-11ea-a13a-137349068a90.jpg'},\n",
       " {'count': 1,\n",
       "  'image_id': '96b00332-21bc-11ea-a13a-137349068a90',\n",
       "  'id': 'a292dd3c-21bc-11ea-a13a-137349068a90',\n",
       "  'category_id': 73})"
      ]
     },
     "execution_count": 24,
     "metadata": {},
     "output_type": "execute_result"
    }
   ],
   "source": [
    "train_js['images'][i], train_js['annotations'][i]"
   ]
  },
  {
   "cell_type": "code",
   "execution_count": 6,
   "metadata": {},
   "outputs": [
    {
     "data": {
      "text/html": [
       "<div>\n",
       "<style scoped>\n",
       "    .dataframe tbody tr th:only-of-type {\n",
       "        vertical-align: middle;\n",
       "    }\n",
       "\n",
       "    .dataframe tbody tr th {\n",
       "        vertical-align: top;\n",
       "    }\n",
       "\n",
       "    .dataframe thead th {\n",
       "        text-align: right;\n",
       "    }\n",
       "</style>\n",
       "<table border=\"1\" class=\"dataframe\">\n",
       "  <thead>\n",
       "    <tr style=\"text-align: right;\">\n",
       "      <th></th>\n",
       "      <th>count</th>\n",
       "      <th>image_id</th>\n",
       "      <th>id</th>\n",
       "      <th>category_id</th>\n",
       "    </tr>\n",
       "  </thead>\n",
       "  <tbody>\n",
       "    <tr>\n",
       "      <th>0</th>\n",
       "      <td>1</td>\n",
       "      <td>96b00332-21bc-11ea-a13a-137349068a90</td>\n",
       "      <td>a292dd3c-21bc-11ea-a13a-137349068a90</td>\n",
       "      <td>73</td>\n",
       "    </tr>\n",
       "    <tr>\n",
       "      <th>1</th>\n",
       "      <td>1</td>\n",
       "      <td>879d74d8-21bc-11ea-a13a-137349068a90</td>\n",
       "      <td>a0afcfc0-21bc-11ea-a13a-137349068a90</td>\n",
       "      <td>4</td>\n",
       "    </tr>\n",
       "    <tr>\n",
       "      <th>2</th>\n",
       "      <td>1</td>\n",
       "      <td>9017f7aa-21bc-11ea-a13a-137349068a90</td>\n",
       "      <td>a306e9c0-21bc-11ea-a13a-137349068a90</td>\n",
       "      <td>227</td>\n",
       "    </tr>\n",
       "    <tr>\n",
       "      <th>3</th>\n",
       "      <td>1</td>\n",
       "      <td>90d93c58-21bc-11ea-a13a-137349068a90</td>\n",
       "      <td>9eed94c4-21bc-11ea-a13a-137349068a90</td>\n",
       "      <td>250</td>\n",
       "    </tr>\n",
       "    <tr>\n",
       "      <th>4</th>\n",
       "      <td>1</td>\n",
       "      <td>887cd0ec-21bc-11ea-a13a-137349068a90</td>\n",
       "      <td>a2a4dd7a-21bc-11ea-a13a-137349068a90</td>\n",
       "      <td>2</td>\n",
       "    </tr>\n",
       "    <tr>\n",
       "      <th>...</th>\n",
       "      <td>...</td>\n",
       "      <td>...</td>\n",
       "      <td>...</td>\n",
       "      <td>...</td>\n",
       "    </tr>\n",
       "    <tr>\n",
       "      <th>217954</th>\n",
       "      <td>1</td>\n",
       "      <td>8b7899a2-21bc-11ea-a13a-137349068a90</td>\n",
       "      <td>9b4c9de2-21bc-11ea-a13a-137349068a90</td>\n",
       "      <td>372</td>\n",
       "    </tr>\n",
       "    <tr>\n",
       "      <th>217955</th>\n",
       "      <td>1</td>\n",
       "      <td>958f609c-21bc-11ea-a13a-137349068a90</td>\n",
       "      <td>9a379740-21bc-11ea-a13a-137349068a90</td>\n",
       "      <td>372</td>\n",
       "    </tr>\n",
       "    <tr>\n",
       "      <th>217956</th>\n",
       "      <td>1</td>\n",
       "      <td>93bd2ede-21bc-11ea-a13a-137349068a90</td>\n",
       "      <td>9d0a3c0c-21bc-11ea-a13a-137349068a90</td>\n",
       "      <td>372</td>\n",
       "    </tr>\n",
       "    <tr>\n",
       "      <th>217957</th>\n",
       "      <td>1</td>\n",
       "      <td>8971956e-21bc-11ea-a13a-137349068a90</td>\n",
       "      <td>9fe5065a-21bc-11ea-a13a-137349068a90</td>\n",
       "      <td>372</td>\n",
       "    </tr>\n",
       "    <tr>\n",
       "      <th>217958</th>\n",
       "      <td>1</td>\n",
       "      <td>94529be0-21bc-11ea-a13a-137349068a90</td>\n",
       "      <td>9a75989c-21bc-11ea-a13a-137349068a90</td>\n",
       "      <td>372</td>\n",
       "    </tr>\n",
       "  </tbody>\n",
       "</table>\n",
       "<p>217959 rows × 4 columns</p>\n",
       "</div>"
      ],
      "text/plain": [
       "        count                              image_id  \\\n",
       "0           1  96b00332-21bc-11ea-a13a-137349068a90   \n",
       "1           1  879d74d8-21bc-11ea-a13a-137349068a90   \n",
       "2           1  9017f7aa-21bc-11ea-a13a-137349068a90   \n",
       "3           1  90d93c58-21bc-11ea-a13a-137349068a90   \n",
       "4           1  887cd0ec-21bc-11ea-a13a-137349068a90   \n",
       "...       ...                                   ...   \n",
       "217954      1  8b7899a2-21bc-11ea-a13a-137349068a90   \n",
       "217955      1  958f609c-21bc-11ea-a13a-137349068a90   \n",
       "217956      1  93bd2ede-21bc-11ea-a13a-137349068a90   \n",
       "217957      1  8971956e-21bc-11ea-a13a-137349068a90   \n",
       "217958      1  94529be0-21bc-11ea-a13a-137349068a90   \n",
       "\n",
       "                                          id  category_id  \n",
       "0       a292dd3c-21bc-11ea-a13a-137349068a90           73  \n",
       "1       a0afcfc0-21bc-11ea-a13a-137349068a90            4  \n",
       "2       a306e9c0-21bc-11ea-a13a-137349068a90          227  \n",
       "3       9eed94c4-21bc-11ea-a13a-137349068a90          250  \n",
       "4       a2a4dd7a-21bc-11ea-a13a-137349068a90            2  \n",
       "...                                      ...          ...  \n",
       "217954  9b4c9de2-21bc-11ea-a13a-137349068a90          372  \n",
       "217955  9a379740-21bc-11ea-a13a-137349068a90          372  \n",
       "217956  9d0a3c0c-21bc-11ea-a13a-137349068a90          372  \n",
       "217957  9fe5065a-21bc-11ea-a13a-137349068a90          372  \n",
       "217958  9a75989c-21bc-11ea-a13a-137349068a90          372  \n",
       "\n",
       "[217959 rows x 4 columns]"
      ]
     },
     "execution_count": 6,
     "metadata": {},
     "output_type": "execute_result"
    }
   ],
   "source": [
    "pd.DataFrame(train_js['annotations'])"
   ]
  },
  {
   "cell_type": "code",
   "execution_count": 20,
   "metadata": {},
   "outputs": [],
   "source": [
    "train_img, valid_img = train_test_split(train_js['annotations']) \n",
    "train_ann, valid_ann = train_test_split(train_js['annotations']) "
   ]
  }
 ],
 "metadata": {
  "kernelspec": {
   "display_name": "andpetrov-kaggle",
   "language": "python",
   "name": "andpetrov-kaggle"
  },
  "language_info": {
   "codemirror_mode": {
    "name": "ipython",
    "version": 3
   },
   "file_extension": ".py",
   "mimetype": "text/x-python",
   "name": "python",
   "nbconvert_exporter": "python",
   "pygments_lexer": "ipython3",
   "version": "3.7.3"
  }
 },
 "nbformat": 4,
 "nbformat_minor": 4
}
